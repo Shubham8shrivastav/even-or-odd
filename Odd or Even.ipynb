{
 "cells": [
  {
   "cell_type": "code",
   "execution_count": 63,
   "id": "abc970ef",
   "metadata": {},
   "outputs": [
    {
     "name": "stdout",
     "output_type": "stream",
     "text": [
      "enter any number13\n",
      "Odd number\n"
     ]
    }
   ],
   "source": [
    "data = 1,2,3,4,5,6,7,8,9\n",
    "s = int(input(\"enter any number\"))\n",
    "if (s%2==0):\n",
    "    print (\"Even number\")\n",
    "else :\n",
    "    print(\"Odd number\")"
   ]
  }
 ],
 "metadata": {
  "kernelspec": {
   "display_name": "Python 3 (ipykernel)",
   "language": "python",
   "name": "python3"
  },
  "language_info": {
   "codemirror_mode": {
    "name": "ipython",
    "version": 3
   },
   "file_extension": ".py",
   "mimetype": "text/x-python",
   "name": "python",
   "nbconvert_exporter": "python",
   "pygments_lexer": "ipython3",
   "version": "3.9.7"
  }
 },
 "nbformat": 4,
 "nbformat_minor": 5
}
